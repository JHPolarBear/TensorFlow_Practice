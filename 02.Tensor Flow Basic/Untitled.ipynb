{
 "cells": [
  {
   "cell_type": "code",
   "execution_count": 1,
   "metadata": {},
   "outputs": [
    {
     "data": {
      "text/plain": [
       "<function matplotlib.pyplot.show(*args, **kw)>"
      ]
     },
     "execution_count": 1,
     "metadata": {},
     "output_type": "execute_result"
    }
   ],
   "source": [
    "## 소스 출처 : https://hunkim.github.io/ml/\t\n",
    "## 아래 코드는 위 링크에서 학습한 머신 러닝 코드를 실습한 내용을 정리해 놓은 것으로, \n",
    "## 관련된 모든 내용은 원 링크를 참고해주시가 바랍니다\n",
    "\n",
    "## Source Originated from : https://hunkim.github.io/ml/\t\n",
    "## The following code is a summary of the machine learning code learned from the link above.\n",
    "## Please refer to the original link for all related contents.\n",
    "\n",
    "# import tensorflow\n",
    "import tensorflow as tf\n",
    "\n",
    "#import matplotlib\n",
    "import matplotlib.pyplot as plt\n",
    "\n",
    "# H(x) = Wx + b (Linear Regression)\n",
    "W = tf.placeholder(tf.float32)\n",
    "\n",
    "#이번 예제에서는 사용 안함\n",
    "#b = tf.Variable(tf.random_normal([1]), name = 'bias')\n",
    "\n",
    "# X && Y Data\n",
    "X = [1,2,3]\n",
    "Y = [1,2,3]\n",
    "\n",
    "# H(x) 방정식 선언\n",
    "hypothesis = X*W\n",
    "\n",
    "# Cost 방정식\n",
    "cost = tf.reduce_mean(tf.square(hypothesis - Y))\n",
    "\n",
    "# Create session\n",
    "sess = tf.Session()\n",
    "\n",
    "# variable 초기화\n",
    "sess.run(tf.global_variables_initializer())\n",
    "\n",
    "W_val = []\n",
    "cost_val = []\n",
    "\n",
    "# 학습 진행\n",
    "for i in range(-30, 50):\n",
    "\tfeed_W = i*0.1\n",
    "\tcurr_cost, curr_W = sess.run([cost, W], feed_dict = {W: feed_W})\n",
    "\tW_val.append(curr_W)\n",
    "\tcost_val.append(curr_cost)\n",
    "\n",
    "# 그래프 출력\n",
    "plt.plot(W_val, cost_val)\n",
    "plt.show"
   ]
  },
  {
   "cell_type": "code",
   "execution_count": null,
   "metadata": {},
   "outputs": [],
   "source": []
  }
 ],
 "metadata": {
  "kernelspec": {
   "display_name": "Python 3",
   "language": "python",
   "name": "python3"
  },
  "language_info": {
   "codemirror_mode": {
    "name": "ipython",
    "version": 3
   },
   "file_extension": ".py",
   "mimetype": "text/x-python",
   "name": "python",
   "nbconvert_exporter": "python",
   "pygments_lexer": "ipython3",
   "version": "3.6.7"
  }
 },
 "nbformat": 4,
 "nbformat_minor": 2
}
